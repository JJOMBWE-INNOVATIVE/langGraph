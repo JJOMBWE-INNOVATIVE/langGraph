{
 "cells": [
  {
   "cell_type": "code",
   "execution_count": 25,
   "metadata": {},
   "outputs": [],
   "source": [
    "from typing import Dict, TypedDict, List\n",
    "from langgraph.graph import StateGraph"
   ]
  },
  {
   "cell_type": "code",
   "execution_count": 26,
   "metadata": {},
   "outputs": [],
   "source": [
    "class AgentState(TypedDict): \n",
    "    values : List[int]\n",
    "    name: str\n",
    "    operation: str\n",
    "    result: str "
   ]
  },
  {
   "cell_type": "code",
   "execution_count": 27,
   "metadata": {},
   "outputs": [],
   "source": [
    "def process_values(state: AgentState) -> AgentState:\n",
    "    operation = state.get(\"operation\", \"+\")  # Default to \"+\" if missing\n",
    "\n",
    "    if operation == '+':\n",
    "        total = sum(state['values'])\n",
    "        operation_name = \"sum\"\n",
    "    elif operation == '*':\n",
    "        total = 1\n",
    "        for val in state['values']:\n",
    "            total *= val\n",
    "        operation_name = \"product\"\n",
    "    else:\n",
    "        state['result'] = f\"Unknown operation: {operation}\"\n",
    "        return state\n",
    "\n",
    "    state['result'] = f\"Hi there {state['name']}! Your {operation_name} = {total}\"\n",
    "    return state"
   ]
  },
  {
   "cell_type": "code",
   "execution_count": 28,
   "metadata": {},
   "outputs": [],
   "source": [
    "graph = StateGraph(AgentState)\n",
    "graph.add_node(\"math_processor\", process_values)\n",
    "\n",
    "graph.set_entry_point(\"math_processor\")\n",
    "graph.set_finish_point(\"math_processor\")\n",
    "\n",
    "app = graph.compile()\n"
   ]
  },
  {
   "cell_type": "code",
   "execution_count": 29,
   "metadata": {},
   "outputs": [],
   "source": [
    "answer = app.invoke({\n",
    "    \"values\": [1, 2, 3,4],\n",
    "    \"name\": \"Grace\",\n",
    "    \"operation\": \"*\"\n",
    "})"
   ]
  },
  {
   "cell_type": "code",
   "execution_count": 30,
   "metadata": {},
   "outputs": [
    {
     "name": "stdout",
     "output_type": "stream",
     "text": [
      "Hi there Grace! Your product = 24\n"
     ]
    }
   ],
   "source": [
    "print(answer[\"result\"])"
   ]
  }
 ],
 "metadata": {
  "kernelspec": {
   "display_name": "Python 3",
   "language": "python",
   "name": "python3"
  },
  "language_info": {
   "codemirror_mode": {
    "name": "ipython",
    "version": 3
   },
   "file_extension": ".py",
   "mimetype": "text/x-python",
   "name": "python",
   "nbconvert_exporter": "python",
   "pygments_lexer": "ipython3",
   "version": "3.13.5"
  },
  "orig_nbformat": 4
 },
 "nbformat": 4,
 "nbformat_minor": 2
}

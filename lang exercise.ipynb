{
 "cells": [
  {
   "cell_type": "code",
   "execution_count": 1,
   "metadata": {},
   "outputs": [],
   "source": [
    "from typing import Dict, TypedDict\n",
    "from langgraph.graph import StateGraph\n"
   ]
  },
  {
   "cell_type": "code",
   "execution_count": 2,
   "metadata": {},
   "outputs": [],
   "source": [
    "class AgentState(TypedDict): #Agent state is the state schema for the StateGraph\n",
    "    message: str\n",
    "\n",
    "#node \n",
    "def greeting_node(state: AgentState) -> AgentState:\n",
    "    \"\"\"A simple greeting node that initializes the agent state.\"\"\"\n",
    "    state['message'] =  state['message'] + \", You are doing an amaising job learnig LangGraph!\"\n",
    "    return state"
   ]
  },
  {
   "cell_type": "code",
   "execution_count": 3,
   "metadata": {},
   "outputs": [],
   "source": [
    "graph = StateGraph(AgentState)\n",
    "# Define the state graph with the greeting node\n",
    "graph.add_node(\"Congrat\", greeting_node)\n",
    "\n",
    "#End\n",
    "graph.set_entry_point(\"Congrat\")\n",
    "graph.set_finish_point(\"Congrat\")\n",
    "\n",
    "app = graph.compile()  # Compile the graph into an application"
   ]
  },
  {
   "cell_type": "code",
   "execution_count": 4,
   "metadata": {},
   "outputs": [],
   "source": [
    "# Run the application\n",
    "result = app.invoke({\"message\": \"Bob\"})  "
   ]
  },
  {
   "cell_type": "code",
   "execution_count": 5,
   "metadata": {},
   "outputs": [
    {
     "data": {
      "text/plain": [
       "'Bob, You are doing an amaising job learnig LangGraph!'"
      ]
     },
     "execution_count": 5,
     "metadata": {},
     "output_type": "execute_result"
    }
   ],
   "source": [
    "result[\"message\"]"
   ]
  }
 ],
 "metadata": {
  "kernelspec": {
   "display_name": ".venv",
   "language": "python",
   "name": "python3"
  },
  "language_info": {
   "codemirror_mode": {
    "name": "ipython",
    "version": 3
   },
   "file_extension": ".py",
   "mimetype": "text/x-python",
   "name": "python",
   "nbconvert_exporter": "python",
   "pygments_lexer": "ipython3",
   "version": "3.13.5"
  },
  "orig_nbformat": 4
 },
 "nbformat": 4,
 "nbformat_minor": 2
}
